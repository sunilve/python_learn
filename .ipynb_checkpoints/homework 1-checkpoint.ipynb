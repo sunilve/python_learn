{
 "cells": [
  {
   "cell_type": "code",
   "execution_count": 5,
   "metadata": {},
   "outputs": [
    {
     "name": "stdout",
     "output_type": "stream",
     "text": [
      "65.625\n",
      "525\n"
     ]
    }
   ],
   "source": [
    "import numpy as np\n",
    "from numpy.random import randn\n",
    "\n",
    "N=800\n",
    "count=0\n",
    "for i in randn(N):\n",
    "    if i>-1 and i<1:\n",
    "        count = count + 1\n",
    "answer= (count/N)*100\n",
    "print(answer)\n",
    "print (count)        \n",
    "    "
   ]
  },
  {
   "cell_type": "code",
   "execution_count": 17,
   "metadata": {},
   "outputs": [
    {
     "name": "stdout",
     "output_type": "stream",
     "text": [
      "67.875\n",
      "32.125\n",
      "543\n",
      "257\n"
     ]
    }
   ],
   "source": [
    "\n",
    "# improvised form of required solution\n",
    "\n",
    "\n",
    "N=800\n",
    "count=0\n",
    "count2=0\n",
    "for i in randn(N):\n",
    "    if i>-1 and i<1:\n",
    "        count = count + 1\n",
    "    else:\n",
    "        count2=(count2) + 1\n",
    "        \n",
    "        \n",
    "answer= (count/N)*100\n",
    "answer2= (count2/N)*100\n",
    "print(answer)\n",
    "print(answer2)\n",
    "print (count)        \n",
    "print(count2)    "
   ]
  },
  {
   "cell_type": "code",
   "execution_count": 32,
   "metadata": {},
   "outputs": [
    {
     "name": "stdout",
     "output_type": "stream",
     "text": [
      "5.375\n",
      "43\n"
     ]
    }
   ],
   "source": [
    "# for values greater than 2 and less than -2\n",
    "\n",
    "count3=0\n",
    "for i in randn(N):\n",
    "    if i<-2 or i>2:\n",
    "        count3= count3 +1\n",
    "answer3 = (count3/N)*100\n",
    "print(answer3)\n",
    "print(count3)"
   ]
  },
  {
   "cell_type": "code",
   "execution_count": 34,
   "metadata": {},
   "outputs": [
    {
     "name": "stdout",
     "output_type": "stream",
     "text": [
      "28.125\n",
      "225\n"
     ]
    }
   ],
   "source": [
    "# for -2<value<-1 and 1<value<2\n",
    "\n",
    "count4 = 0\n",
    "for i in randn(N):\n",
    "    if (i>-2 and i <-1) or (i>1 and i<2):\n",
    "        count4 = count4 +1\n",
    "answer4= (count4/N)*100\n",
    "print(answer4)\n",
    "print(count4)\n",
    "        \n",
    "    "
   ]
  },
  {
   "cell_type": "code",
   "execution_count": 75,
   "metadata": {},
   "outputs": [
    {
     "name": "stdout",
     "output_type": "stream",
     "text": [
      "68.406\n",
      "27.071\n",
      "4.523\n"
     ]
    }
   ],
   "source": [
    "# compile all the ranges \n",
    "\n",
    "N=100000\n",
    "count=0\n",
    "count1=0\n",
    "count2=0\n",
    "count3=0\n",
    "\n",
    "for i in randn(N):\n",
    "    if i>-1 and i<1:\n",
    "        count = count +1\n",
    "    elif (i<-1 and i>-2) or (i>1 and i<2):\n",
    "        count1 = count1 +1\n",
    "    else:\n",
    "        count2 = count2 +1\n",
    "        \n",
    "answer= (count/N)*100\n",
    "answer1= (count1/N)*100\n",
    "answer2= (count2/N)*100\n",
    "\n",
    "print(answer)\n",
    "print(answer1)\n",
    "print(answer2)"
   ]
  }
 ],
 "metadata": {
  "kernelspec": {
   "display_name": "Python 3",
   "language": "python",
   "name": "python3"
  },
  "language_info": {
   "codemirror_mode": {
    "name": "ipython",
    "version": 3
   },
   "file_extension": ".py",
   "mimetype": "text/x-python",
   "name": "python",
   "nbconvert_exporter": "python",
   "pygments_lexer": "ipython3",
   "version": "3.7.2"
  }
 },
 "nbformat": 4,
 "nbformat_minor": 4
}
